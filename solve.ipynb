{
 "cells": [
  {
   "cell_type": "markdown",
   "id": "49ed4a11-17a7-49cf-9afb-f68c4403325b",
   "metadata": {},
   "source": [
    "## Sistema simplificado:"
   ]
  },
  {
   "cell_type": "markdown",
   "id": "68e864d8-aa7c-4c5a-b013-b48a3b66cf9a",
   "metadata": {},
   "source": [
    "## $$ \\frac{dx_1}{dt} = -\\mu x_1^2 + \\frac{(1-\\sigma)a x_1 x_3}{1+\\alpha x_1 + \\gamma x_3}$$\n",
    "\n",
    "## $$ \\frac{dx_3}{dt} = x_3(r_3 - \\mu_3x_3)+\\frac{bx_1 x_3}{1+\\alpha x_1 +\\gamma x_3} $$"
   ]
  },
  {
   "cell_type": "markdown",
   "id": "322d2842-6ebd-4b5b-a9d1-eedcfcf487a6",
   "metadata": {},
   "source": [
    "## Importações"
   ]
  },
  {
   "cell_type": "code",
   "execution_count": 1,
   "id": "08945294-1340-4011-b76f-13db1025a442",
   "metadata": {},
   "outputs": [],
   "source": [
    "import numpy as np\n",
    "import matplotlib.pyplot as plt\n",
    "import warnings\n",
    "from matplotlib import MatplotlibDeprecationWarning\n",
    "warnings.filterwarnings(\"ignore\", category=MatplotlibDeprecationWarning)\n",
    "plt.style.use('seaborn-bright')"
   ]
  },
  {
   "cell_type": "markdown",
   "id": "55b56db7-75e9-4658-bc95-a1950616df0f",
   "metadata": {},
   "source": [
    "## Variáveis"
   ]
  },
  {
   "cell_type": "code",
   "execution_count": 2,
   "id": "0cc08787-a657-481c-9848-54f9053fee87",
   "metadata": {},
   "outputs": [],
   "source": [
    "X1_INICIAL = 1\n",
    "X3_INICIAL = 1\n",
    "NSTEPS = 500\n",
    "TFINAL = 10\n",
    "\n",
    "mu, mu3, a, alfa, b, gama, r3, sigma,  = 1,1,1,1,1,1,1,1\n",
    "STEP = TFINAL/NSTEPS\n",
    "x_1 = np.zeros(NSTEPS)\n",
    "x_3 = np.zeros(NSTEPS)\n",
    "dx_1 = np.zeros(NSTEPS)\n",
    "dx_3 = np.zeros(NSTEPS)\n",
    "x_1[0] = X1_INICIAL\n",
    "x_3[0] = X3_INICIAL"
   ]
  },
  {
   "cell_type": "code",
   "execution_count": 3,
   "id": "86cadaf0-9f39-4444-9d34-fbf9fed92270",
   "metadata": {},
   "outputs": [],
   "source": [
    "def dx1(x1, x3):\n",
    "    return -mu*x1**2 + ((1-sigma)*a*x1*x3)/(1+alfa*x1 + gama*x3)\n",
    "\n",
    "def dx3(x1, x3):\n",
    "    x3*(r3 - mu3*x3) + (b*x1*x3)/(1+alfa*x1 + gama*x3)"
   ]
  },
  {
   "cell_type": "code",
   "execution_count": 5,
   "id": "65cf45e6-7ce8-4c88-82d7-ad4e2cf5491e",
   "metadata": {},
   "outputs": [],
   "source": [
    "t = np.linspace(0,TFINAL, NSTEPS)\n",
    "for i in range(NSTEPS-1):\n",
    "    dx_1[i] = dx1(x_1[i], x_3[i])\n",
    "    dx_3[i] = dx3(x_1[i], x_3[i])\n",
    "    x_1[i+1] = x_1[i] + STEP*dx_1[i]\n",
    "    x_3[i+1] = x_3[i] + STEP*dx_3[i]"
   ]
  },
  {
   "cell_type": "code",
   "execution_count": 9,
   "id": "d3f40a49-b3bb-4dbb-8cba-838a31d85a1c",
   "metadata": {},
   "outputs": [
    {
     "data": {
      "text/plain": [
       "array([1.  , 0.98,  nan,  nan,  nan,  nan,  nan,  nan,  nan,  nan,  nan,\n",
       "        nan,  nan,  nan,  nan,  nan,  nan,  nan,  nan,  nan,  nan,  nan,\n",
       "        nan,  nan,  nan,  nan,  nan,  nan,  nan,  nan,  nan,  nan,  nan,\n",
       "        nan,  nan,  nan,  nan,  nan,  nan,  nan,  nan,  nan,  nan,  nan,\n",
       "        nan,  nan,  nan,  nan,  nan,  nan,  nan,  nan,  nan,  nan,  nan,\n",
       "        nan,  nan,  nan,  nan,  nan,  nan,  nan,  nan,  nan,  nan,  nan,\n",
       "        nan,  nan,  nan,  nan,  nan,  nan,  nan,  nan,  nan,  nan,  nan,\n",
       "        nan,  nan,  nan,  nan,  nan,  nan,  nan,  nan,  nan,  nan,  nan,\n",
       "        nan,  nan,  nan,  nan,  nan,  nan,  nan,  nan,  nan,  nan,  nan,\n",
       "        nan,  nan,  nan,  nan,  nan,  nan,  nan,  nan,  nan,  nan,  nan,\n",
       "        nan,  nan,  nan,  nan,  nan,  nan,  nan,  nan,  nan,  nan,  nan,\n",
       "        nan,  nan,  nan,  nan,  nan,  nan,  nan,  nan,  nan,  nan,  nan,\n",
       "        nan,  nan,  nan,  nan,  nan,  nan,  nan,  nan,  nan,  nan,  nan,\n",
       "        nan,  nan,  nan,  nan,  nan,  nan,  nan,  nan,  nan,  nan,  nan,\n",
       "        nan,  nan,  nan,  nan,  nan,  nan,  nan,  nan,  nan,  nan,  nan,\n",
       "        nan,  nan,  nan,  nan,  nan,  nan,  nan,  nan,  nan,  nan,  nan,\n",
       "        nan,  nan,  nan,  nan,  nan,  nan,  nan,  nan,  nan,  nan,  nan,\n",
       "        nan,  nan,  nan,  nan,  nan,  nan,  nan,  nan,  nan,  nan,  nan,\n",
       "        nan,  nan,  nan,  nan,  nan,  nan,  nan,  nan,  nan,  nan,  nan,\n",
       "        nan,  nan,  nan,  nan,  nan,  nan,  nan,  nan,  nan,  nan,  nan,\n",
       "        nan,  nan,  nan,  nan,  nan,  nan,  nan,  nan,  nan,  nan,  nan,\n",
       "        nan,  nan,  nan,  nan,  nan,  nan,  nan,  nan,  nan,  nan,  nan,\n",
       "        nan,  nan,  nan,  nan,  nan,  nan,  nan,  nan,  nan,  nan,  nan,\n",
       "        nan,  nan,  nan,  nan,  nan,  nan,  nan,  nan,  nan,  nan,  nan,\n",
       "        nan,  nan,  nan,  nan,  nan,  nan,  nan,  nan,  nan,  nan,  nan,\n",
       "        nan,  nan,  nan,  nan,  nan,  nan,  nan,  nan,  nan,  nan,  nan,\n",
       "        nan,  nan,  nan,  nan,  nan,  nan,  nan,  nan,  nan,  nan,  nan,\n",
       "        nan,  nan,  nan,  nan,  nan,  nan,  nan,  nan,  nan,  nan,  nan,\n",
       "        nan,  nan,  nan,  nan,  nan,  nan,  nan,  nan,  nan,  nan,  nan,\n",
       "        nan,  nan,  nan,  nan,  nan,  nan,  nan,  nan,  nan,  nan,  nan,\n",
       "        nan,  nan,  nan,  nan,  nan,  nan,  nan,  nan,  nan,  nan,  nan,\n",
       "        nan,  nan,  nan,  nan,  nan,  nan,  nan,  nan,  nan,  nan,  nan,\n",
       "        nan,  nan,  nan,  nan,  nan,  nan,  nan,  nan,  nan,  nan,  nan,\n",
       "        nan,  nan,  nan,  nan,  nan,  nan,  nan,  nan,  nan,  nan,  nan,\n",
       "        nan,  nan,  nan,  nan,  nan,  nan,  nan,  nan,  nan,  nan,  nan,\n",
       "        nan,  nan,  nan,  nan,  nan,  nan,  nan,  nan,  nan,  nan,  nan,\n",
       "        nan,  nan,  nan,  nan,  nan,  nan,  nan,  nan,  nan,  nan,  nan,\n",
       "        nan,  nan,  nan,  nan,  nan,  nan,  nan,  nan,  nan,  nan,  nan,\n",
       "        nan,  nan,  nan,  nan,  nan,  nan,  nan,  nan,  nan,  nan,  nan,\n",
       "        nan,  nan,  nan,  nan,  nan,  nan,  nan,  nan,  nan,  nan,  nan,\n",
       "        nan,  nan,  nan,  nan,  nan,  nan,  nan,  nan,  nan,  nan,  nan,\n",
       "        nan,  nan,  nan,  nan,  nan,  nan,  nan,  nan,  nan,  nan,  nan,\n",
       "        nan,  nan,  nan,  nan,  nan,  nan,  nan,  nan,  nan,  nan,  nan,\n",
       "        nan,  nan,  nan,  nan,  nan,  nan,  nan,  nan,  nan,  nan,  nan,\n",
       "        nan,  nan,  nan,  nan,  nan,  nan,  nan,  nan,  nan,  nan,  nan,\n",
       "        nan,  nan,  nan,  nan,  nan])"
      ]
     },
     "execution_count": 9,
     "metadata": {},
     "output_type": "execute_result"
    }
   ],
   "source": []
  },
  {
   "cell_type": "code",
   "execution_count": 7,
   "id": "dc1d9b90-b929-4d6e-a469-a08a134a2045",
   "metadata": {},
   "outputs": [
    {
     "data": {
      "text/plain": [
       "[<matplotlib.lines.Line2D at 0x1f64dd62890>]"
      ]
     },
     "execution_count": 7,
     "metadata": {},
     "output_type": "execute_result"
    },
    {
     "data": {
      "image/png": "[encoded data removed]",
      "text/plain": [
       "<Figure size 640x480 with 1 Axes>"
      ]
     },
     "metadata": {},
     "output_type": "display_data"
    }
   ],
   "source": [
    "fig, ax = plt.subplots(1,1)\n",
    "#ax.plot(t, x_1)\n",
    "ax.plot(t, x_3)"
   ]
  },
  {
   "cell_type": "code",
   "execution_count": null,
   "id": "fc572496-59ef-429c-94a5-14d23708969d",
   "metadata": {},
   "outputs": [],
   "source": []
  }
 ],
 "metadata": {
  "kernelspec": {
   "display_name": "ilumpy",
   "language": "python",
   "name": "ilumpy"
  },
  "language_info": {
   "codemirror_mode": {
    "name": "ipython",
    "version": 3
   },
   "file_extension": ".py",
   "mimetype": "text/x-python",
   "name": "python",
   "nbconvert_exporter": "python",
   "pygments_lexer": "ipython3",
   "version": "3.10.8"
  }
 },
 "nbformat": 4,
 "nbformat_minor": 5
}
